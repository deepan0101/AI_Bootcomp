{
  "nbformat": 4,
  "nbformat_minor": 0,
  "metadata": {
    "colab": {
      "provenance": []
    },
    "kernelspec": {
      "name": "python3",
      "display_name": "Python 3"
    },
    "language_info": {
      "name": "python"
    }
  },
  "cells": [
    {
      "cell_type": "code",
      "execution_count": null,
      "metadata": {
        "id": "gcB3VDRdUoYw"
      },
      "outputs": [],
      "source": [
        "\n",
        "print(\"Hello World\")\n"
      ]
    },
    {
      "cell_type": "markdown",
      "source": [],
      "metadata": {
        "id": "h6Xd8Tj8VDZ4"
      }
    },
    {
      "cell_type": "code",
      "source": [
        "print(\"Hello World\")"
      ],
      "metadata": {
        "id": "xVSqcR4qVHHX"
      },
      "execution_count": null,
      "outputs": []
    },
    {
      "cell_type": "code",
      "source": [
        "from os import XATTR_CREATE\n",
        "a=31\n",
        "b=66\n",
        "c=89\n",
        "d=a+b+c\n",
        "print(\"sum of the\",d)"
      ],
      "metadata": {
        "id": "0VkO7JfNZbRe"
      },
      "execution_count": null,
      "outputs": []
    },
    {
      "cell_type": "code",
      "source": [
        "a=56\n",
        "a=56\n",
        "b=21\n",
        "c=a+b\n",
        "print(\"sum of the\",c)"
      ],
      "metadata": {
        "id": "MRxlixnjZgFx"
      },
      "execution_count": null,
      "outputs": []
    },
    {
      "cell_type": "markdown",
      "source": [],
      "metadata": {
        "id": "yk2u7VqCZfbZ"
      }
    },
    {
      "cell_type": "code",
      "source": [
        "a=int(input(\"enter first number\"))\n",
        "b=int(input(\"enter second number\"))\n",
        "c=a*b\n",
        "print(\"Result=\",c)"
      ],
      "metadata": {
        "colab": {
          "base_uri": "https://localhost:8080/"
        },
        "id": "LqorJP_dfzy4",
        "outputId": "6457927e-e953-4211-e085-bd5b81e1b740"
      },
      "execution_count": null,
      "outputs": [
        {
          "output_type": "stream",
          "name": "stdout",
          "text": [
            "enter first number5\n",
            "enter second number5\n",
            "Result= 25\n"
          ]
        }
      ]
    }
  ]
}